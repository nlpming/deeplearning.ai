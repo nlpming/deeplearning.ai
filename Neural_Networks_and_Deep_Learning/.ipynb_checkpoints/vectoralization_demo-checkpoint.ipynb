{
 "cells": [
  {
   "cell_type": "markdown",
   "metadata": {
    "collapsed": true
   },
   "source": [
    "## 向量化例子"
   ]
  },
  {
   "cell_type": "code",
   "execution_count": 3,
   "metadata": {},
   "outputs": [],
   "source": [
    "import numpy as np\n",
    "import time"
   ]
  },
  {
   "cell_type": "code",
   "execution_count": 12,
   "metadata": {},
   "outputs": [
    {
     "name": "stdout",
     "output_type": "stream",
     "text": [
      "2500382.9479471343\n",
      "Time cost: 0.19443607330322266\n"
     ]
    }
   ],
   "source": [
    "start_time = time.time()\n",
    "N = 10000000\n",
    "a = np.random.rand(N)\n",
    "b = np.random.rand(N)\n",
    "c = np.dot(a, b)\n",
    "print(c)\n",
    "print(\"Time cost:\", time.time()-start_time)"
   ]
  },
  {
   "cell_type": "code",
   "execution_count": 13,
   "metadata": {},
   "outputs": [
    {
     "name": "stdout",
     "output_type": "stream",
     "text": [
      "2500420.0274095377\n",
      "Time cost: 4.729604959487915\n"
     ]
    }
   ],
   "source": [
    "start_time = time.time()\n",
    "a = np.random.rand(N)\n",
    "b = np.random.rand(N)\n",
    "c = 0\n",
    "\n",
    "for i in range(N):\n",
    "    c += a[i]*b[i]\n",
    "print(c)\n",
    "print(\"Time cost:\", time.time()-start_time)"
   ]
  },
  {
   "cell_type": "code",
   "execution_count": null,
   "metadata": {},
   "outputs": [],
   "source": []
  },
  {
   "cell_type": "code",
   "execution_count": null,
   "metadata": {},
   "outputs": [],
   "source": []
  },
  {
   "cell_type": "code",
   "execution_count": null,
   "metadata": {},
   "outputs": [],
   "source": []
  },
  {
   "cell_type": "code",
   "execution_count": null,
   "metadata": {},
   "outputs": [],
   "source": []
  }
 ],
 "metadata": {
  "kernelspec": {
   "display_name": "Python 3",
   "language": "python",
   "name": "python3"
  },
  "language_info": {
   "codemirror_mode": {
    "name": "ipython",
    "version": 3
   },
   "file_extension": ".py",
   "mimetype": "text/x-python",
   "name": "python",
   "nbconvert_exporter": "python",
   "pygments_lexer": "ipython3",
   "version": "3.7.6"
  }
 },
 "nbformat": 4,
 "nbformat_minor": 1
}
